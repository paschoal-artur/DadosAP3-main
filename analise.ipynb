{
 "cells": [
  {
   "cell_type": "code",
   "execution_count": 3,
   "metadata": {},
   "outputs": [],
   "source": [
    "import numpy as np \n",
    "import pandas as pd \n",
    "import plotly.express as px \n",
    "import geopandas as gpd"
   ]
  },
  {
   "cell_type": "code",
   "execution_count": null,
   "metadata": {},
   "outputs": [],
   "source": [
    "areninha_csv = pd.read_csv('./Datasets/areninhas.csv')\n",
    "areninha_geojson = gpd.read_file('./Datasets/areninhas.geojson')\n",
    "assentamentosP_csv = pd.read_csv('./Datasets/assentamentos_precarios.csv')\n",
    "assentamentosP_geojson = gpd.read_file('./Datasets/assentamentos_precarios.geojson')\n",
    "bairros_csv = pd.read_csv('./Datasets/bairros.csv')\n",
    "bairros_geojson = gpd.read_file('./Datasets/bairros.geojson')\n",
    "caps_csv = pd.read_csv('./Datasets/CAPS.csv')\n",
    "caps_geojson = gpd.read_file('./Datasets/CAPS.geojson')\n",
    "densidade_csv = pd.read_csv('./Datasets/densidade_pop_bairros.csv')\n",
    "densidade_geojson = gpd.read_file('./Datasets/densidade_pop_bairros.geojson')\n",
    "distritos_educacionais_geojson = gpd.read_file('./Datasets/distritos_edu.geojson')\n",
    "domicilios_csv = pd.read_csv('./Datasets/domicilios.csv')\n",
    "domicilios_geojson = gpd.read_file('./Datasets/domicilios.geojson')\n",
    "eq_assistenciais_csv = pd.read_csv('./Datasets/eq_assistencia_social.csv')\n",
    "eq_assistenciais_geojson = gpd.read_file('./Datasets/eq_assistencia_social.geojson')\n",
    "eq_saude_csv = pd.read_csv('./Datasets/eq_saude.csv')\n",
    "eq_saude_geojson = gpd.read_file('./Datasets/eq_saude.geojson')\n",
    "gravidez_adolesc = pd.read_csv('./Datasets/gravidez_adole.csv')\n",
    "gravidez_adolesc_geojson = gpd.read_file('./Datasets/gravidez_adole.geojson')\n",
    "idh_class = pd.read_csv('./Datasets/idh_class.csv')\n",
    "idh_class_geojson = gpd.read_file('./Datasets/idh_class.geojson')\n",
    "pontos_onibus_csv = pd.read_csv('./Datasets/pontos_onibus.csv')\n",
    "pontos_onibus_geojson = gpd.read_file('./Datasets/pontos_onibus.geojson')\n",
    "rede_agua_csv = pd.read_csv('./Datasets/rede_aguaa.csv')\n",
    "rede_cuca_csv = pd.read_csv('./Datasets/rede_cuca.csv')\n",
    "rede_cuca_geojson = gpd.read_file('./Datasets/rede_cuca.geojson')\n",
    "rede_esgoto_csv = pd.read_csv('./Datasets/rede_esgoto.csv')\n",
    "rede_esgoto_geojson = gpd.read_file('./Datasets/rede_esgoto.geojson')\n",
    "rede_juv_csv = pd.read_csv('./Datasets/rede_juv.csv')\n",
    "rede_juv_geojson = gpd.read_file('./Datasets/rede_juv.geojson')"
   ]
  }
 ],
 "metadata": {
  "kernelspec": {
   "display_name": "base",
   "language": "python",
   "name": "python3"
  },
  "language_info": {
   "codemirror_mode": {
    "name": "ipython",
    "version": 3
   },
   "file_extension": ".py",
   "mimetype": "text/x-python",
   "name": "python",
   "nbconvert_exporter": "python",
   "pygments_lexer": "ipython3",
   "version": "3.12.7"
  }
 },
 "nbformat": 4,
 "nbformat_minor": 2
}
